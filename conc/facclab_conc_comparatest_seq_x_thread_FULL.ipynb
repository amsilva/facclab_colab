{
  "nbformat": 4,
  "nbformat_minor": 0,
  "metadata": {
    "colab": {
      "provenance": [],
      "authorship_tag": "ABX9TyPB+Hl70CMbEqdzuD2F7Sw+",
      "include_colab_link": true
    },
    "kernelspec": {
      "name": "python3",
      "display_name": "Python 3"
    },
    "language_info": {
      "name": "python"
    }
  },
  "cells": [
    {
      "cell_type": "markdown",
      "metadata": {
        "id": "view-in-github",
        "colab_type": "text"
      },
      "source": [
        "<a href=\"https://colab.research.google.com/github/amsilva/facclab_colab/blob/main/conc/facclab_conc_comparatest_seq_x_thread_FULL.ipynb\" target=\"_parent\"><img src=\"https://colab.research.google.com/assets/colab-badge.svg\" alt=\"Open In Colab\"/></a>"
      ]
    },
    {
      "cell_type": "code",
      "source": [
        "#https://github.com/amsilva/facclab_conc_comparatest_seq_x_thread_FULL\n",
        "\n",
        "## configuracao e inicializacao\n",
        "\n",
        "import time\n",
        "from threading import Thread\n",
        "\n",
        "nomefull = \"\"\n",
        "total = 0"
      ],
      "metadata": {
        "id": "_fMEVPv0MvOD"
      },
      "execution_count": 56,
      "outputs": []
    },
    {
      "cell_type": "code",
      "source": [
        "## funcoes de logica\n",
        "\n",
        "def recepcao() :\n",
        "  global nomefull\n",
        "  nome = input('DIGITE SEU NOME ')\n",
        "  sobrenome = input('AGORA SEU NOME DE FAMILIA (SOBRENOME): ')\n",
        "  nomefull =  nome + ' ' + sobrenome\n",
        "\n",
        "def eh_primo(n):\n",
        "    if n < 2:\n",
        "        return False\n",
        "    for i in range(2, n-1):\n",
        "      #print(\"testando n\", i)\n",
        "      if n % i == 0:\n",
        "        return False\n",
        "    return True\n",
        "\n",
        "def contar_primos(inicio, fim):\n",
        "    global total\n",
        "    cont = 0\n",
        "    for n in range(inicio, fim):\n",
        "        if eh_primo(n):\n",
        "            cont += 1\n",
        "    #print(f\"Intervalo {inicio}-{fim}: {total} primos\")\n",
        "    total = total + cont"
      ],
      "metadata": {
        "id": "ZZCfJuGqNGc9"
      },
      "execution_count": 57,
      "outputs": []
    },
    {
      "cell_type": "code",
      "execution_count": 58,
      "metadata": {
        "id": "UlKRxzYhTnrV"
      },
      "outputs": [],
      "source": [
        "## funcoes de controle/processo\n",
        "\n",
        "# modo sequencial\n",
        "def modo_sequencial(limite_mx):\n",
        "    inicio = time.time()\n",
        "    recepcao()\n",
        "    contar_primos(1, limite_mx)\n",
        "    fim = time.time()\n",
        "    diff = fim - inicio\n",
        "    print(f\"Olá, {nomefull}!\")\n",
        "    print(f\"O intervalo tem: {total} primos\")\n",
        "    print(f\"tempo sequencial foi: {diff:.2f} segs\")\n",
        "    return diff\n",
        "\n",
        "# modo com threads\n",
        "def modo_thread(limite_mx):\n",
        "    global total\n",
        "    total = 0\n",
        "    t1 = Thread(target=contar_primos, args=(1, limite_mx))\n",
        "    #t2 = Thread(target=contar_primos, args=(int(limite_mx/2) + 1, limite_mx))\n",
        "    t2 = threading.Thread(target=recepcao)\n",
        "\n",
        "    inicio = time.time()\n",
        "    t1.start()\n",
        "    t2.start()\n",
        "    t1.join()\n",
        "    t2.join()\n",
        "    fim = time.time()\n",
        "    diff = fim - inicio\n",
        "    print(f\"Olá, {nomefull}!\")\n",
        "    print(f\"O intervalo tem: {total} primos\")\n",
        "    print(f\"tempo em multitask foi: {diff:.2f} segs\")\n",
        "    return diff\n"
      ]
    },
    {
      "cell_type": "code",
      "source": [
        "## main (principal)\n",
        "\n",
        "# Executar os dois modos\n",
        "limite_mx = 70_000\n",
        "ts = modo_sequencial(limite_mx)\n",
        "print(\"------------------------------\")\n",
        "tt = modo_thread(limite_mx)"
      ],
      "metadata": {
        "id": "wKdvtIdsNPio"
      },
      "execution_count": null,
      "outputs": []
    },
    {
      "cell_type": "code",
      "source": [
        "## relatorio (grafico)\n",
        "\n",
        "import matplotlib.pyplot as plt\n",
        "\n",
        "tempos = [ts, tt]\n",
        "labels = ['sequencial', 'thread']\n",
        "\n",
        "plt.bar(labels, tempos, color=['cyan', 'yellow'])\n",
        "plt.ylabel('tempo (segundos)')\n",
        "plt.show()"
      ],
      "metadata": {
        "id": "Fwsn-BIMEiwG"
      },
      "execution_count": null,
      "outputs": []
    }
  ]
}